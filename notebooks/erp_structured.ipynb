{
 "cells": [
  {
   "cell_type": "markdown",
   "metadata": {},
   "source": [
    "# ERP Structured Ingestion\n",
    "Normalize Orders, SKUs, Customers and write curated tables."
   ]
  },
  {
   "cell_type": "code",
   "execution_count": null,
   "metadata": {},
   "outputs": [],
   "source": [
    "import pandas as pd\n",
    "from datetime import datetime\n",
    "\n",
    "# Example: read landing CSVs (replace with OneLake paths in Fabric)\n",
    "orders = pd.read_csv('landing/erp/orders.csv')\n",
    "skus = pd.read_csv('landing/erp/skus.csv')\n",
    "customers = pd.read_csv('landing/erp/customers.csv')\n",
    "\n",
    "# Clean and standardize\n",
    "orders['OrderDate'] = pd.to_datetime(orders['OrderDate'])\n",
    "skus['SKU'] = skus['SKU'].astype(str).str.strip().str.upper()\n",
    "\n",
    "# Star schema example\n",
    "dim_sku = skus[['SKU','Description','Weight','Length','Width','Height']].drop_duplicates()\n",
    "dim_customer = customers[['CustomerId','Name','Region']].drop_duplicates()\n",
    "fact_shipment = orders.rename(columns={'CustomerId':'CustomerId'})\n",
    "\n",
    "# Persist (replace with lakehouse Delta writes in Fabric)\n",
    "dim_sku.to_parquet('curated/DimSKU.parquet', index=False)\n",
    "dim_customer.to_parquet('curated/DimCustomer.parquet', index=False)\n",
    "fact_shipment.to_parquet('curated/FactShipment.parquet', index=False)\n",
    "print('Wrote curated ERP tables at', datetime.utcnow(), 'UTC')\n"
   ]
  }
 ],
 "metadata": {
  "kernelspec": {"display_name": "Python 3", "language": "python", "name": "python3"},
  "language_info": {"name": "python", "version": "3.10"}
 },
 "nbformat": 4,
 "nbformat_minor": 2
}
