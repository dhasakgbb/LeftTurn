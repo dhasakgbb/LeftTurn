{
 "cells": [
  {"cell_type": "markdown", "metadata": {}, "source": ["# Carrier Structured Ingestion\n","Process invoices, tracking, rating outputs and compute variance."]},
  {"cell_type": "code", "execution_count": null, "metadata": {}, "outputs": [], "source": [
    "import pandas as pd\n",
    "from datetime import datetime\n",
    "\n",
    "invoices = pd.read_csv('landing/carrier/invoices.csv')\n",
    "rating = pd.read_csv('landing/carrier/rating.csv')\n",
    "\n",
    "invoices['ShipDate'] = pd.to_datetime(invoices['ShipDate'])\n",
    "rating['RatedAmount'] = rating['RatedAmount'].astype(float)\n",
    "\n",
    "variance = invoices.merge(rating, on='InvoiceLineId', how='left')\n",
    "variance['Variance'] = variance['BilledAmount'] - variance['RatedAmount']\n",
    "variance['Reason'] = variance['Reason'].fillna('')\n",
    "\n",
    "invoices.to_parquet('curated/FactInvoice.parquet', index=False)\n",
    "variance[['InvoiceLineId','InvoiceId','Carrier','ServiceLevel','SKU','BilledAmount','RatedAmount','Variance','Reason']].to_parquet('curated/RatingOutput.parquet', index=False)\n",
    "print('Wrote curated Carrier tables at', datetime.utcnow(), 'UTC')\n"
  ]}
 ],
 "metadata": {"kernelspec": {"display_name": "Python 3", "language": "python", "name": "python3"}, "language_info": {"name": "python", "version": "3.10"}},
 "nbformat": 4,
 "nbformat_minor": 2
}
