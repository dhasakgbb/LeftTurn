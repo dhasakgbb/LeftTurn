{
 "cells": [
  {"cell_type": "markdown", "metadata": {}, "source": ["# Carrier Agreements & Guides (Unstructured)\n","Parse PDFs with Document Intelligence and produce structured tables."]},
  {"cell_type": "code", "execution_count": null, "metadata": {}, "outputs": [], "source": [
    "import os, json\n",
    "from datetime import datetime\n",
    "# Placeholder for using Azure Document Intelligence SDK.\n",
    "# In Fabric, install package 'azure-ai-formrecognizer' or use built-in cognitive integration.\n",
    "# This example emits normalized JSON ready for downstream tables.\n",
    "agreements_dir = 'landing/carrier_docs'\n",
    "rows = []\n",
    "for f in os.listdir(agreements_dir):\n",
    "    if not f.lower().endswith('.json'):\n",
    "        continue\n",
    "    doc = json.load(open(os.path.join(agreements_dir, f)))\n",
    "    carrier = doc.get('carrier')\n",
    "    eff = doc.get('effectiveDate')\n",
    "    for clause in doc.get('clauses', []):\n",
    "        rows.append({\n",
    "            'carrier': carrier,\n",
    "            'effectiveDate': eff,\n",
    "            'clauseId': clause.get('id'),\n",
    "            'text': clause.get('text'),\n",
    "        })\n",
    "import pandas as pd\n",
    "df = pd.DataFrame(rows)\n",
    "df.to_parquet('curated/ContractClauses.parquet', index=False)\n",
    "print('Wrote clauses table at', datetime.utcnow(), 'UTC')\n"
  ]}
 ],
 "metadata": {"kernelspec": {"display_name": "Python 3", "language": "python", "name": "python3"}, "language_info": {"name": "python", "version": "3.10"}},
 "nbformat": 4,
 "nbformat_minor": 2
}
